{
 "cells": [
  {
   "cell_type": "markdown",
   "metadata": {},
   "source": [
    "<h3>6.6 模型集成提升性能</h3>"
   ]
  },
  {
   "cell_type": "code",
   "execution_count": 1,
   "metadata": {
    "collapsed": true
   },
   "outputs": [],
   "source": [
    "import torch\n",
    "import torch.nn as nn\n",
    "import torch.optim as optim\n",
    "import torch.nn.functional as F\n",
    "import torch.backends.cudnn as cudnn\n",
    "import numpy as np\n",
    "import torchvision\n",
    "import torchvision.transforms as transforms\n",
    "from torch.utils.data import DataLoader\n",
    "from collections import Counter\n",
    "import os\n",
    "\n",
    "os.environ['KMP_DUPLICATE_LIB_OK'] = 'TRUE'\n",
    "\n",
    "#定义一些超参数 \n",
    "BATCHSIZE=100\n",
    "DOWNLOAD_MNIST=False\n",
    "EPOCHES=20\n",
    "LR=0.001"
   ]
  },
  {
   "cell_type": "code",
   "execution_count": 2,
   "metadata": {
    "collapsed": true
   },
   "outputs": [],
   "source": [
    "#定义相关模型结构，这三个网络结构比较接近"
   ]
  },
  {
   "cell_type": "code",
   "execution_count": 3,
   "metadata": {
    "collapsed": true
   },
   "outputs": [],
   "source": [
    "class CNNNet(nn.Module):\n",
    "    def __init__(self):\n",
    "        super(CNNNet,self).__init__()\n",
    "        self.conv1 = nn.Conv2d(in_channels=3,out_channels=16,kernel_size=5,stride=1)\n",
    "        self.pool1 = nn.MaxPool2d(kernel_size=2,stride=2)\n",
    "        self.conv2 = nn.Conv2d(in_channels=16,out_channels=36,kernel_size=3,stride=1)\n",
    "        self.pool2 = nn.MaxPool2d(kernel_size=2, stride=2)\n",
    "        self.fc1 = nn.Linear(1296,128)\n",
    "        self.fc2 = nn.Linear(128,10)      \n",
    "\n",
    "    def forward(self,x):\n",
    "        x=self.pool1(F.relu(self.conv1(x)))\n",
    "        x=self.pool2(F.relu(self.conv2(x)))\n",
    "        # print(x.shape)\n",
    "        x=x.view(-1,36*6*6)\n",
    "        x=F.relu(self.fc2(F.relu(self.fc1(x))))\n",
    "        return x"
   ]
  },
  {
   "cell_type": "code",
   "execution_count": 4,
   "metadata": {
    "collapsed": true
   },
   "outputs": [],
   "source": [
    "class Net(nn.Module):\n",
    "    def __init__(self):\n",
    "        super(Net, self).__init__()\n",
    "        self.conv1 = nn.Conv2d(3, 16, 5)\n",
    "        self.pool1 = nn.MaxPool2d(2, 2)\n",
    "        self.conv2 = nn.Conv2d(16, 36, 5)\n",
    "        # self.fc1 = nn.Linear(16 * 5 * 5, 120)\n",
    "        self.pool2 = nn.MaxPool2d(2, 2)\n",
    "        self.aap=nn.AdaptiveAvgPool2d(1)\n",
    "        # self.fc2 = nn.Linear(120, 84)\n",
    "        self.fc3 = nn.Linear(36, 10)\n",
    "\n",
    "    def forward(self, x):\n",
    "        x = self.pool1(F.relu(self.conv1(x)))\n",
    "        x = self.pool2(F.relu(self.conv2(x)))\n",
    "        # print(x.shape)\n",
    "        # x = x.view(-1, 16 * 5 * 5)\n",
    "        x = self.aap(x)\n",
    "        # print(x.shape)\n",
    "        # x = F.relu(self.fc2(x))\n",
    "        x = x.view(x.shape[0], -1)\n",
    "        # print(x.shape)\n",
    "        x = self.fc3(x)\n",
    "        return x"
   ]
  },
  {
   "cell_type": "code",
   "execution_count": 5,
   "metadata": {
    "collapsed": true
   },
   "outputs": [],
   "source": [
    "class LeNet(nn.Module):\n",
    "    def __init__(self):\n",
    "        super(LeNet, self).__init__()\n",
    "        self.conv1 = nn.Conv2d(3, 6, 5)\n",
    "        self.conv2 = nn.Conv2d(6, 16, 5)\n",
    "        self.fc1   = nn.Linear(16*5*5, 120)\n",
    "        self.fc2   = nn.Linear(120, 84)\n",
    "        self.fc3   = nn.Linear(84, 10)\n",
    "\n",
    "    def forward(self, x):\n",
    "        out = F.relu(self.conv1(x))\n",
    "        out = F.max_pool2d(out, 2)\n",
    "        out = F.relu(self.conv2(out))\n",
    "        out = F.max_pool2d(out, 2)\n",
    "        out = out.view(out.size(0), -1)\n",
    "        out = F.relu(self.fc1(out))\n",
    "        out = F.relu(self.fc2(out))\n",
    "        out = self.fc3(out)\n",
    "        return out"
   ]
  },
  {
   "cell_type": "code",
   "execution_count": 6,
   "metadata": {
    "collapsed": true
   },
   "outputs": [],
   "source": [
    "cfg = {\n",
    "    'VGG16': [64, 64, 'M', 128, 128, 'M', 256, 256, 256, 'M', 512, 512, 512, 'M', 512, 512, 512, 'M'],\n",
    "    'VGG19': [64, 64, 'M', 128, 128, 'M', 256, 256, 256, 256, 'M', 512, 512, 512, 512, 'M', 512, 512, 512, 512, 'M'],\n",
    "}\n",
    "\n",
    "class VGG(nn.Module):\n",
    "    def __init__(self, vgg_name):\n",
    "        super(VGG, self).__init__()\n",
    "        self.features = self._make_layers(cfg[vgg_name])\n",
    "        self.classifier = nn.Linear(512, 10)\n",
    "\n",
    "    def forward(self, x):\n",
    "        out = self.features(x)\n",
    "        out = out.view(out.size(0), -1)\n",
    "        out = self.classifier(out)\n",
    "        return out\n",
    "\n",
    "    def _make_layers(self, cfg):\n",
    "        layers = []\n",
    "        in_channels = 3\n",
    "        for x in cfg:\n",
    "            if x == 'M':\n",
    "                layers += [nn.MaxPool2d(kernel_size=2, stride=2)]\n",
    "            else:\n",
    "                layers += [nn.Conv2d(in_channels, x, kernel_size=3, padding=1),\n",
    "                           nn.BatchNorm2d(x),\n",
    "                           nn.ReLU(inplace=True)]\n",
    "                in_channels = x\n",
    "        layers += [nn.AvgPool2d(kernel_size=1, stride=1)]\n",
    "        return nn.Sequential(*layers)\n"
   ]
  },
  {
   "cell_type": "code",
   "execution_count": 7,
   "metadata": {
    "collapsed": true
   },
   "outputs": [],
   "source": [
    "# 导入数据，这里数据已下载本地，故设download=False"
   ]
  },
  {
   "cell_type": "code",
   "execution_count": 8,
   "metadata": {},
   "outputs": [
    {
     "name": "stdout",
     "output_type": "stream",
     "text": [
      "==> Preparing data..\n",
      "==> Building model..\n"
     ]
    }
   ],
   "source": [
    "device = torch.device('cuda' if torch.cuda.is_available() else 'cpu')\n",
    "    # torch.device('cpu')\n",
    "\n",
    "\n",
    "# Data\n",
    "print('==> Preparing data..')\n",
    "transform_train = transforms.Compose([\n",
    "    transforms.RandomCrop(32, padding=4),\n",
    "    transforms.RandomHorizontalFlip(),\n",
    "    transforms.ToTensor(),\n",
    "    transforms.Normalize((0.4914, 0.4822, 0.4465), (0.2023, 0.1994, 0.2010)),\n",
    "])\n",
    "\n",
    "transform_test = transforms.Compose([\n",
    "    transforms.ToTensor(),\n",
    "    transforms.Normalize((0.4914, 0.4822, 0.4465), (0.2023, 0.1994, 0.2010)),\n",
    "])\n",
    "\n",
    "trainset = torchvision.datasets.CIFAR10(root='./data', train=True, download=False, transform=transform_train)\n",
    "trainloader = torch.utils.data.DataLoader(trainset, batch_size=128, shuffle=True, num_workers=0)\n",
    "\n",
    "testset = torchvision.datasets.CIFAR10(root='./data', train=False, download=False, transform=transform_test)\n",
    "testloader = torch.utils.data.DataLoader(testset, batch_size=100, shuffle=False, num_workers=0)\n",
    "\n",
    "classes = ('plane', 'car', 'bird', 'cat', 'deer', 'dog', 'frog', 'horse', 'ship', 'truck')\n",
    "\n",
    "# Model\n",
    "print('==> Building model..')\n",
    "net1 = CNNNet()\n",
    "net2 = Net()\n",
    "net3 = LeNet()\n",
    "net4 = VGG('VGG16')"
   ]
  },
  {
   "cell_type": "code",
   "execution_count": 9,
   "metadata": {
    "pycharm": {
     "name": "#%%\n"
    }
   },
   "outputs": [
    {
     "name": "stdout",
     "output_type": "stream",
     "text": [
      "epoch:0集成模型的正确率43.64\n",
      "模型0的正确率为：34.45\n",
      "模型1的正确率为：38.41\n",
      "模型2的正确率为：45.57\n",
      "epoch:1集成模型的正确率48.29\n",
      "模型0的正确率为：36.55\n",
      "模型1的正确率为：43.25\n",
      "模型2的正确率为：51.66\n",
      "epoch:2集成模型的正确率51.53\n",
      "模型0的正确率为：37.49\n",
      "模型1的正确率为：45.74\n",
      "模型2的正确率为：54.11\n",
      "epoch:3集成模型的正确率52.21\n",
      "模型0的正确率为：38.21\n",
      "模型1的正确率为：46.33\n",
      "模型2的正确率为：54.82\n",
      "epoch:4集成模型的正确率55.49\n",
      "模型0的正确率为：38.63\n",
      "模型1的正确率为：49.58\n",
      "模型2的正确率为：57.5\n",
      "epoch:5集成模型的正确率56.72\n",
      "模型0的正确率为：38.83\n",
      "模型1的正确率为：51.59\n",
      "模型2的正确率为：58.8\n",
      "epoch:6集成模型的正确率56.17\n",
      "模型0的正确率为：38.65\n",
      "模型1的正确率为：51.15\n",
      "模型2的正确率为：59.14\n",
      "epoch:7集成模型的正确率57.01\n",
      "模型0的正确率为：39.82\n",
      "模型1的正确率为：53.12\n",
      "模型2的正确率为：59.81\n",
      "epoch:8集成模型的正确率58.6\n",
      "模型0的正确率为：39.39\n",
      "模型1的正确率为：54.09\n",
      "模型2的正确率为：60.86\n",
      "epoch:9集成模型的正确率59.93\n",
      "模型0的正确率为：39.9\n",
      "模型1的正确率为：54.42\n",
      "模型2的正确率为：60.94\n",
      "epoch:10集成模型的正确率61.98\n",
      "模型0的正确率为：45.89\n",
      "模型1的正确率为：55.8\n",
      "模型2的正确率为：61.31\n",
      "epoch:11集成模型的正确率62.53\n",
      "模型0的正确率为：47.44\n",
      "模型1的正确率为：56.13\n",
      "模型2的正确率为：62.79\n",
      "epoch:12集成模型的正确率61.56\n",
      "模型0的正确率为：47.1\n",
      "模型1的正确率为：56.58\n",
      "模型2的正确率为：62.67\n",
      "epoch:13集成模型的正确率62.58\n",
      "模型0的正确率为：48.11\n",
      "模型1的正确率为：57.33\n",
      "模型2的正确率为：63.53\n",
      "epoch:14集成模型的正确率63.45\n",
      "模型0的正确率为：48.24\n",
      "模型1的正确率为：57.06\n",
      "模型2的正确率为：63.86\n",
      "epoch:15集成模型的正确率62.7\n",
      "模型0的正确率为：47.84\n",
      "模型1的正确率为：57.28\n",
      "模型2的正确率为：63.27\n",
      "epoch:16集成模型的正确率64.64\n",
      "模型0的正确率为：48.6\n",
      "模型1的正确率为：58.91\n",
      "模型2的正确率为：64.2\n",
      "epoch:17集成模型的正确率63.66\n",
      "模型0的正确率为：48.1\n",
      "模型1的正确率为：57.76\n",
      "模型2的正确率为：64.01\n",
      "epoch:18集成模型的正确率65.74\n",
      "模型0的正确率为：48.35\n",
      "模型1的正确率为：58.75\n",
      "模型2的正确率为：64.44\n",
      "epoch:19集成模型的正确率66.79\n",
      "模型0的正确率为：53.09\n",
      "模型1的正确率为：60.53\n",
      "模型2的正确率为：64.93\n"
     ]
    }
   ],
   "source": [
    "# 把3个网络模型放在一个列表里\n",
    "mlps=[net1.to(device),net2.to(device),net3.to(device)]\n",
    "\n",
    "optimizer=torch.optim.Adam([{\"params\":mlp.parameters()} for mlp in mlps],lr=LR)\n",
    "  \n",
    "loss_function=nn.CrossEntropyLoss()\n",
    " \n",
    "for ep in range(EPOCHES):\n",
    "    for img,label in trainloader:\n",
    "        img,label=img.to(device),label.to(device)\n",
    "        optimizer.zero_grad() # 10个网络清除梯度\n",
    "        for mlp in mlps:\n",
    "            mlp.train()\n",
    "            out=mlp(img)\n",
    "            loss=loss_function(out,label)\n",
    "            loss.backward() # 网络们获得梯度\n",
    "        optimizer.step()\n",
    " \n",
    "    pre=[]\n",
    "    vote_correct=0\n",
    "    mlps_correct=[0 for i in range(len(mlps))]\n",
    "    for img,label in testloader:\n",
    "        img,label=img.to(device),label.to(device)\n",
    "        for i, mlp in enumerate(mlps):\n",
    "            mlp.eval()\n",
    "            out=mlp(img)\n",
    " \n",
    "            _,prediction=torch.max(out,1) # 按行取最大值\n",
    "            pre_num=prediction.cpu().numpy()\n",
    "            mlps_correct[i]+=(pre_num==label.cpu().numpy()).sum()\n",
    " \n",
    "            pre.append(pre_num)\n",
    "        arr=np.array(pre)\n",
    "        pre.clear()\n",
    "        result=[Counter(arr[:,i]).most_common(1)[0][0] for i in range(BATCHSIZE)]\n",
    "        vote_correct+=(result == label.cpu().numpy()).sum()\n",
    "    print(\"epoch:\" + str(ep)+\"集成模型的正确率\"+str(vote_correct/len(testloader)))\n",
    " \n",
    "    for idx, correct in enumerate(mlps_correct):\n",
    "        print(\"模型\"+str(idx)+\"的正确率为：\"+str(correct/len(testloader)))\n"
   ]
  }
 ],
 "metadata": {
  "kernelspec": {
   "display_name": "Python 3",
   "language": "python",
   "name": "python3"
  },
  "language_info": {
   "codemirror_mode": {
    "name": "ipython",
    "version": 3
   },
   "file_extension": ".py",
   "mimetype": "text/x-python",
   "name": "python",
   "nbconvert_exporter": "python",
   "pygments_lexer": "ipython3",
   "version": "3.6.8"
  }
 },
 "nbformat": 4,
 "nbformat_minor": 2
}