{
 "cells": [
  {
   "cell_type": "markdown",
   "source": [
    "<h3>6.1 卷积神经网络简介</h3>"
   ],
   "metadata": {
    "collapsed": false
   }
  },
  {
   "cell_type": "code",
   "execution_count": 1,
   "outputs": [],
   "source": [
    "import torch\n",
    "import torch.nn as nn\n",
    "import torch.nn.functional as F\n",
    "import torch.optim as optim\n",
    "from torchvision import datasets, transforms"
   ],
   "metadata": {
    "collapsed": false,
    "pycharm": {
     "name": "#%%\n"
    }
   }
  },
  {
   "cell_type": "code",
   "execution_count": 2,
   "outputs": [],
   "source": [
    "device = torch.device(\"cuda:0\" if torch.cuda.is_available() else \"cpu\")\n",
    "\n",
    "class CNNNet(nn.Module):\n",
    "    def __init__(self):\n",
    "        super(CNNNet,self).__init__()\n",
    "        self.conv1 = nn.Conv2d(in_channels=3,out_channels=16,kernel_size=5,stride=1)\n",
    "        self.pool1 = nn.MaxPool2d(kernel_size=2,stride=2)\n",
    "        self.conv2 = nn.Conv2d(in_channels=16,out_channels=36,kernel_size=5,stride=1)\n",
    "        self.pool2 = nn.MaxPool2d(kernel_size=2, stride=2)\n",
    "        self.dense1 = nn.Linear(900,128)\n",
    "        self.dense2 = nn.Linear(128,10)\n",
    "\n",
    "    def forward(self,x):\n",
    "        x=self.pool1(F.relu(self.conv1(x)))\n",
    "        x=self.pool2(F.relu(self.conv2(x)))\n",
    "        x=x.view(-1,900)\n",
    "        x=F.relu(self.dense2(F.relu(self.dense1(x))))\n",
    "        return x\n",
    "\n",
    "net = CNNNet()\n",
    "net = net.to(device)"
   ],
   "metadata": {
    "collapsed": false,
    "pycharm": {
     "name": "#%%\n"
    }
   }
  },
  {
   "cell_type": "markdown",
   "source": [
    "<h3>6.3 池化层</h3>"
   ],
   "metadata": {
    "collapsed": false
   }
  },
  {
   "cell_type": "code",
   "execution_count": 3,
   "outputs": [
    {
     "name": "stdout",
     "output_type": "stream",
     "text": [
      "torch.Size([20, 16, 24, 31])\n"
     ]
    }
   ],
   "source": [
    "# 池化窗口为正方形 size=3, stride=2\n",
    "m1 = nn.MaxPool2d(3, stride=2)\n",
    "# 池化窗口为非正方形\n",
    "m2 = nn.MaxPool2d((3, 2), stride=(2, 1))\n",
    "input = torch.randn(20, 16, 50, 32)\n",
    "output = m2(input)\n",
    "print(output.shape)"
   ],
   "metadata": {
    "collapsed": false,
    "pycharm": {
     "name": "#%%\n"
    }
   }
  },
  {
   "cell_type": "markdown",
   "source": [
    "6.3.2 全局池化"
   ],
   "metadata": {
    "collapsed": false
   }
  },
  {
   "cell_type": "code",
   "execution_count": 4,
   "outputs": [
    {
     "name": "stdout",
     "output_type": "stream",
     "text": [
      "torch.Size([1, 64, 5, 7])\n",
      "torch.Size([1, 64, 7, 7])\n",
      "torch.Size([1, 64, 10, 7])\n",
      "torch.Size([1, 64, 1, 1])\n"
     ]
    }
   ],
   "source": [
    "# 输出大小为5x7\n",
    "m = nn.AdaptiveMaxPool2d((5,7))\n",
    "input = torch.randn(1, 64, 8, 9)\n",
    "output = m(input)\n",
    "print(output.size())\n",
    "# t输出大小为正方形 7x7\n",
    "m = nn.AdaptiveMaxPool2d(7)\n",
    "input = torch.randn(1, 64, 10, 9)\n",
    "output = m(input)\n",
    "print(output.size())\n",
    "# 输出大小为 10x7\n",
    "m = nn.AdaptiveMaxPool2d((None, 7))\n",
    "input = torch.randn(1, 64, 10, 9)\n",
    "output = m(input)\n",
    "print(output.size())\n",
    "# 输出大小为 1x1\n",
    "m = nn.AdaptiveMaxPool2d((1))\n",
    "input = torch.randn(1, 64, 10, 9)\n",
    "output = m(input)\n",
    "print(output.size())"
   ],
   "metadata": {
    "collapsed": false,
    "pycharm": {
     "name": "#%%\n"
    }
   }
  },
  {
   "cell_type": "markdown",
   "source": [
    "<h3>6.5 Pytorch实现cifar10多分类</h3>"
   ],
   "metadata": {
    "collapsed": false
   }
  },
  {
   "cell_type": "code",
   "execution_count": 5,
   "outputs": [],
   "source": [
    "import torch\n",
    "import torchvision\n",
    "import torchvision.transforms as transforms\n",
    "import os\n",
    "# 报错1：OMP: Error #15: Initializing libiomp5md.dll, but found libiomp5md.dll already initialized\n",
    "# 解决方案：https://blog.csdn.net/jialibang/article/details/107392240\n",
    "os.environ['KMP_DUPLICATE_LIB_OK'] = 'TRUE'"
   ],
   "metadata": {
    "collapsed": false,
    "pycharm": {
     "name": "#%%\n"
    }
   }
  },
  {
   "cell_type": "code",
   "execution_count": 6,
   "outputs": [],
   "source": [
    "transform = transforms.Compose(\n",
    "    [transforms.ToTensor(),\n",
    "     transforms.Normalize((0.5, 0.5, 0.5), (0.5, 0.5, 0.5))])\n",
    "\n",
    "# 报错2：BrokenPipeError: [Errno 32] Broken pipe\n",
    "# 由于windows下多线程的问题，和DataLoader类有关，修改调用torch.utils.data.DataLoader()函数时的 num_workers 参数 改为0\n",
    "trainset = torchvision.datasets.CIFAR10(root='./data', train=True,\n",
    "                                        download=False, transform=transform)\n",
    "trainloader = torch.utils.data.DataLoader(trainset, batch_size=4,\n",
    "                                          shuffle=True, num_workers=0)\n",
    "testset = torchvision.datasets.CIFAR10(root='./data', train=False,\n",
    "                                       download=False, transform=transform)\n",
    "testloader = torch.utils.data.DataLoader(testset, batch_size=4,\n",
    "                                         shuffle=False, num_workers=0)\n",
    "\n",
    "classes = ('plane', 'car', 'bird', 'cat',\n",
    "           'deer', 'dog', 'frog', 'horse', 'ship', 'truck')"
   ],
   "metadata": {
    "collapsed": false,
    "pycharm": {
     "name": "#%%\n"
    }
   }
  },
  {
   "cell_type": "code",
   "execution_count": 7,
   "outputs": [
    {
     "data": {
      "text/plain": "<Figure size 432x288 with 1 Axes>",
      "image/png": "[encoded data removed]"
     },
     "metadata": {},
     "output_type": "display_data"
    },
    {
     "name": "stdout",
     "output_type": "stream",
     "text": [
      " bird plane   cat   cat\n"
     ]
    }
   ],
   "source": [
    "import matplotlib.pyplot as plt\n",
    "import numpy as np\n",
    "%matplotlib inline\n",
    "\n",
    "# 显示图像\n",
    "\n",
    "def imshow(img):\n",
    "    img = img / 2 + 0.5     # unnormalize\n",
    "    npimg = img.numpy()\n",
    "    plt.imshow(np.transpose(npimg, (1, 2, 0)))\n",
    "    plt.show()\n",
    "\n",
    "\n",
    "# 随机获取部分训练数据\n",
    "dataiter = iter(trainloader)\n",
    "images, labels = dataiter.next()\n",
    "\n",
    "# 显示图像\n",
    "imshow(torchvision.utils.make_grid(images))\n",
    "# 打印标签\n",
    "print(' '.join('%5s' % classes[labels[j]] for j in range(4)))"
   ],
   "metadata": {
    "collapsed": false,
    "pycharm": {
     "name": "#%%\n"
    }
   }
  },
  {
   "cell_type": "markdown",
   "source": [
    "6.5.3 构建网络"
   ],
   "metadata": {
    "collapsed": false
   }
  },
  {
   "cell_type": "code",
   "execution_count": 8,
   "outputs": [],
   "source": [
    "import torch.nn as nn\n",
    "import torch.nn.functional as F\n",
    "device = torch.device(\"cuda:0\" if torch.cuda.is_available() else \"cpu\")\n",
    "\n",
    "\n",
    "class CNNNet(nn.Module):\n",
    "    def __init__(self):\n",
    "        super(CNNNet,self).__init__()\n",
    "        self.conv1 = nn.Conv2d(in_channels=3,out_channels=16,kernel_size=5,stride=1)\n",
    "        self.pool1 = nn.MaxPool2d(kernel_size=2,stride=2)\n",
    "        self.conv2 = nn.Conv2d(in_channels=16,out_channels=36,kernel_size=3,stride=1)\n",
    "        self.pool2 = nn.MaxPool2d(kernel_size=2, stride=2)\n",
    "        self.fc1 = nn.Linear(1296,128)\n",
    "        self.fc2 = nn.Linear(128,10)\n",
    "\n",
    "    def forward(self,x):\n",
    "        x=self.pool1(F.relu(self.conv1(x)))\n",
    "        x=self.pool2(F.relu(self.conv2(x)))\n",
    "        #print(x.shape)\n",
    "        x=x.view(-1,36*6*6)\n",
    "        x=F.relu(self.fc2(F.relu(self.fc1(x))))\n",
    "        return x\n",
    "\n",
    "net = CNNNet()\n",
    "net = net.to(device)"
   ],
   "metadata": {
    "collapsed": false,
    "pycharm": {
     "name": "#%%\n"
    }
   }
  },
  {
   "cell_type": "code",
   "execution_count": 9,
   "outputs": [
    {
     "name": "stdout",
     "output_type": "stream",
     "text": [
      "net have 173742 paramerters in total\n"
     ]
    }
   ],
   "source": [
    "# 查看参数总量\n",
    "print(\"net have {} paramerters in total\".format(sum(x.numel() for x in net.parameters())))"
   ],
   "metadata": {
    "collapsed": false,
    "pycharm": {
     "name": "#%%\n"
    }
   }
  },
  {
   "cell_type": "code",
   "execution_count": 10,
   "outputs": [],
   "source": [
    "import torch.optim as optim\n",
    "LR = 0.001\n",
    "\n",
    "# 交叉熵损失函数\n",
    "criterion = nn.CrossEntropyLoss()\n",
    "optimizer = optim.SGD(net.parameters(), lr=0.001, momentum=0.9)\n",
    "# optimizer = optim.Adam(net.parameters(), lr=LR)"
   ],
   "metadata": {
    "collapsed": false,
    "pycharm": {
     "name": "#%%\n"
    }
   }
  },
  {
   "cell_type": "code",
   "execution_count": 11,
   "outputs": [
    {
     "name": "stdout",
     "output_type": "stream",
     "text": [
      "CNNNet(\n",
      "  (conv1): Conv2d(3, 16, kernel_size=(5, 5), stride=(1, 1))\n",
      "  (pool1): MaxPool2d(kernel_size=2, stride=2, padding=0, dilation=1, ceil_mode=False)\n",
      "  (conv2): Conv2d(16, 36, kernel_size=(3, 3), stride=(1, 1))\n",
      "  (pool2): MaxPool2d(kernel_size=2, stride=2, padding=0, dilation=1, ceil_mode=False)\n",
      "  (fc1): Linear(in_features=1296, out_features=128, bias=True)\n",
      "  (fc2): Linear(in_features=128, out_features=10, bias=True)\n",
      ")\n"
     ]
    }
   ],
   "source": [
    "print(net)"
   ],
   "metadata": {
    "collapsed": false,
    "pycharm": {
     "name": "#%%\n"
    }
   }
  },
  {
   "cell_type": "code",
   "execution_count": 12,
   "outputs": [
    {
     "data": {
      "text/plain": "Sequential(\n  (0): Conv2d(3, 16, kernel_size=(5, 5), stride=(1, 1))\n  (1): MaxPool2d(kernel_size=2, stride=2, padding=0, dilation=1, ceil_mode=False)\n  (2): Conv2d(16, 36, kernel_size=(3, 3), stride=(1, 1))\n  (3): MaxPool2d(kernel_size=2, stride=2, padding=0, dilation=1, ceil_mode=False)\n)"
     },
     "execution_count": 12,
     "metadata": {},
     "output_type": "execute_result"
    }
   ],
   "source": [
    "#取模型中的前四层\n",
    "nn.Sequential(*list(net.children())[:4])"
   ],
   "metadata": {
    "collapsed": false,
    "pycharm": {
     "name": "#%%\n"
    }
   }
  },
  {
   "cell_type": "markdown",
   "source": [
    "6.5.4 训练模型"
   ],
   "metadata": {
    "collapsed": false
   }
  },
  {
   "cell_type": "code",
   "execution_count": 13,
   "outputs": [
    {
     "name": "stdout",
     "output_type": "stream",
     "text": [
      "[1,  2000] loss: 2.215\n",
      "[1,  4000] loss: 2.019\n",
      "[1,  6000] loss: 1.931\n",
      "[1,  8000] loss: 1.779\n",
      "[1, 10000] loss: 1.721\n",
      "[1, 12000] loss: 1.671\n",
      "[2,  2000] loss: 1.594\n",
      "[2,  4000] loss: 1.517\n",
      "[2,  6000] loss: 1.385\n",
      "[2,  8000] loss: 1.363\n",
      "[2, 10000] loss: 1.326\n",
      "[2, 12000] loss: 1.306\n",
      "[3,  2000] loss: 1.188\n",
      "[3,  4000] loss: 1.205\n",
      "[3,  6000] loss: 1.106\n",
      "[3,  8000] loss: 1.040\n",
      "[3, 10000] loss: 1.003\n",
      "[3, 12000] loss: 0.973\n",
      "[4,  2000] loss: 0.859\n",
      "[4,  4000] loss: 0.858\n",
      "[4,  6000] loss: 0.856\n",
      "[4,  8000] loss: 0.896\n",
      "[4, 10000] loss: 0.893\n",
      "[4, 12000] loss: 0.870\n",
      "[5,  2000] loss: 0.717\n",
      "[5,  4000] loss: 0.749\n",
      "[5,  6000] loss: 0.760\n",
      "[5,  8000] loss: 0.773\n",
      "[5, 10000] loss: 0.744\n",
      "[5, 12000] loss: 0.775\n",
      "[6,  2000] loss: 0.618\n",
      "[6,  4000] loss: 0.658\n",
      "[6,  6000] loss: 0.650\n",
      "[6,  8000] loss: 0.668\n",
      "[6, 10000] loss: 0.695\n",
      "[6, 12000] loss: 0.680\n",
      "[7,  2000] loss: 0.509\n",
      "[7,  4000] loss: 0.544\n",
      "[7,  6000] loss: 0.578\n",
      "[7,  8000] loss: 0.572\n",
      "[7, 10000] loss: 0.627\n",
      "[7, 12000] loss: 0.638\n",
      "[8,  2000] loss: 0.440\n",
      "[8,  4000] loss: 0.496\n",
      "[8,  6000] loss: 0.500\n",
      "[8,  8000] loss: 0.501\n",
      "[8, 10000] loss: 0.552\n",
      "[8, 12000] loss: 0.557\n",
      "[9,  2000] loss: 0.373\n",
      "[9,  4000] loss: 0.397\n",
      "[9,  6000] loss: 0.440\n",
      "[9,  8000] loss: 0.468\n",
      "[9, 10000] loss: 0.491\n",
      "[9, 12000] loss: 0.490\n",
      "[10,  2000] loss: 0.322\n",
      "[10,  4000] loss: 0.355\n",
      "[10,  6000] loss: 0.391\n",
      "[10,  8000] loss: 0.414\n",
      "[10, 10000] loss: 0.441\n",
      "[10, 12000] loss: 0.456\n",
      "Finished Training\n"
     ]
    }
   ],
   "source": [
    "for epoch in range(10):\n",
    "\n",
    "    running_loss = 0.0\n",
    "    for i, data in enumerate(trainloader, 0):\n",
    "        # 获取训练数据\n",
    "        inputs, labels = data\n",
    "        inputs, labels = inputs.to(device), labels.to(device)\n",
    "\n",
    "        # 权重参数梯度清零\n",
    "        optimizer.zero_grad()\n",
    "\n",
    "        # 正向及反向传播\n",
    "        outputs = net(inputs)\n",
    "        loss = criterion(outputs, labels)\n",
    "        loss.backward()\n",
    "        optimizer.step()\n",
    "\n",
    "        # 显示损失值\n",
    "        running_loss += loss.item()\n",
    "        if i % 2000 == 1999:    # print every 2000 mini-batches\n",
    "            print('[%d, %5d] loss: %.3f' %(epoch + 1, i + 1, running_loss / 2000))\n",
    "            running_loss = 0.0\n",
    "\n",
    "print('Finished Training')"
   ],
   "metadata": {
    "collapsed": false,
    "pycharm": {
     "name": "#%%\n"
    }
   }
  },
  {
   "cell_type": "code",
   "execution_count": 14,
   "outputs": [
    {
     "data": {
      "text/plain": "<Figure size 432x288 with 1 Axes>",
      "image/png": "[encoded data removed]"
     },
     "metadata": {},
     "output_type": "display_data"
    },
    {
     "name": "stdout",
     "output_type": "stream",
     "text": [
      "GroundTruth:    cat  ship  ship plane\n"
     ]
    }
   ],
   "source": [
    "dataiter = iter(testloader)\n",
    "images, labels = dataiter.next()\n",
    "# images, labels = images.to(device), labels.to(device)\n",
    "# print images\n",
    "imshow(torchvision.utils.make_grid(images))\n",
    "print('GroundTruth: ', ' '.join('%5s' % classes[labels[j]] for j in range(4)))"
   ],
   "metadata": {
    "collapsed": false,
    "pycharm": {
     "name": "#%%\n"
    }
   }
  },
  {
   "cell_type": "code",
   "execution_count": 15,
   "outputs": [
    {
     "name": "stdout",
     "output_type": "stream",
     "text": [
      "Predicted:   frog   car  ship truck\n"
     ]
    }
   ],
   "source": [
    "images, labels = images.to(device), labels.to(device)\n",
    "outputs = net(images)\n",
    "_, predicted = torch.max(outputs, 1)\n",
    "\n",
    "print('Predicted: ', ' '.join('%5s' % classes[predicted[j]]for j in range(4)))"
   ],
   "metadata": {
    "collapsed": false,
    "pycharm": {
     "name": "#%%\n"
    }
   }
  },
  {
   "cell_type": "markdown",
   "source": [
    "6.5.5 测试模型"
   ],
   "metadata": {
    "collapsed": false
   }
  },
  {
   "cell_type": "code",
   "execution_count": 16,
   "outputs": [
    {
     "name": "stdout",
     "output_type": "stream",
     "text": [
      "Accuracy of the network on the 10000 test images: 67 %\n"
     ]
    }
   ],
   "source": [
    "correct = 0\n",
    "total = 0\n",
    "# torch.no_grad()\n",
    "# 在该模块下，所有计算得出的tensor的requires_grad都自动设置为False\n",
    "with torch.no_grad():\n",
    "    for data in testloader:\n",
    "        images, labels = data\n",
    "        images, labels = images.to(device), labels.to(device)\n",
    "        outputs = net(images)\n",
    "        _, predicted = torch.max(outputs.data, 1)\n",
    "        total += labels.size(0)\n",
    "        correct += (predicted == labels).sum().item()\n",
    "\n",
    "print('Accuracy of the network on the 10000 test images: %d %%' % (\n",
    "    100 * correct / total))"
   ],
   "metadata": {
    "collapsed": false,
    "pycharm": {
     "name": "#%%\n"
    }
   }
  },
  {
   "cell_type": "code",
   "execution_count": 17,
   "outputs": [
    {
     "name": "stdout",
     "output_type": "stream",
     "text": [
      "Accuracy of plane : 60 %\n",
      "Accuracy of   car : 81 %\n",
      "Accuracy of  bird : 61 %\n",
      "Accuracy of   cat : 44 %\n",
      "Accuracy of  deer : 58 %\n",
      "Accuracy of   dog : 60 %\n",
      "Accuracy of  frog : 81 %\n",
      "Accuracy of horse : 72 %\n",
      "Accuracy of  ship : 77 %\n",
      "Accuracy of truck : 80 %\n"
     ]
    }
   ],
   "source": [
    "class_correct = list(0. for i in range(10))\n",
    "class_total = list(0. for i in range(10))\n",
    "with torch.no_grad():\n",
    "    for data in testloader:\n",
    "        images, labels = data\n",
    "        images, labels = images.to(device), labels.to(device)\n",
    "        outputs = net(images)\n",
    "        _, predicted = torch.max(outputs, 1)\n",
    "        c = (predicted == labels).squeeze()\n",
    "        for i in range(4):\n",
    "            label = labels[i]\n",
    "            class_correct[label] += c[i].item()\n",
    "            class_total[label] += 1\n",
    "\n",
    "\n",
    "for i in range(10):\n",
    "    print('Accuracy of %5s : %2d %%' % (\n",
    "        classes[i], 100 * class_correct[i] / class_total[i]))"
   ],
   "metadata": {
    "collapsed": false,
    "pycharm": {
     "name": "#%%\n"
    }
   }
  },
  {
   "cell_type": "markdown",
   "source": [
    "6.5.6 采用全局平均池化"
   ],
   "metadata": {
    "collapsed": false
   }
  },
  {
   "cell_type": "code",
   "execution_count": 18,
   "outputs": [],
   "source": [
    "import torch.nn as nn\n",
    "import torch.nn.functional as F\n",
    "device = torch.device(\"cuda:0\" if torch.cuda.is_available() else \"cpu\")\n",
    "\n",
    "class Net(nn.Module):\n",
    "    def __init__(self):\n",
    "        super(Net, self).__init__()\n",
    "        self.conv1 = nn.Conv2d(3, 16, 5)\n",
    "        self.pool1 = nn.MaxPool2d(2, 2)\n",
    "        self.conv2 = nn.Conv2d(16, 36, 5)\n",
    "        # self.fc1 = nn.Linear(16 * 5 * 5, 120)\n",
    "        self.pool2 = nn.MaxPool2d(2, 2)\n",
    "        # 使用全局平均池化层\n",
    "        self.aap=nn.AdaptiveAvgPool2d(1)\n",
    "        self.fc3 = nn.Linear(36, 10)\n",
    "\n",
    "    def forward(self, x):\n",
    "        x = self.pool1(F.relu(self.conv1(x)))\n",
    "        x = self.pool2(F.relu(self.conv2(x)))\n",
    "        x = self.aap(x)\n",
    "        x = x.view(x.shape[0], -1)\n",
    "        x = self.fc3(x)\n",
    "        return x\n",
    "\n",
    "net = Net()\n",
    "net = net.to(device)"
   ],
   "metadata": {
    "collapsed": false,
    "pycharm": {
     "name": "#%%\n"
    }
   }
  },
  {
   "cell_type": "code",
   "execution_count": 19,
   "outputs": [
    {
     "name": "stdout",
     "output_type": "stream",
     "text": [
      "net_gvp have 16022 paramerters in total\n"
     ]
    }
   ],
   "source": [
    "print(\"net_gvp have {} paramerters in total\".format(sum(x.numel() for x in net.parameters())))"
   ],
   "metadata": {
    "collapsed": false,
    "pycharm": {
     "name": "#%%\n"
    }
   }
  },
  {
   "cell_type": "code",
   "execution_count": 20,
   "outputs": [],
   "source": [
    "import torch.optim as optim\n",
    "LR = 0.001\n",
    "\n",
    "criterion = nn.CrossEntropyLoss()\n",
    "optimizer = optim.SGD(net.parameters(), lr=0.001, momentum=0.9)"
   ],
   "metadata": {
    "collapsed": false,
    "pycharm": {
     "name": "#%%\n"
    }
   }
  },
  {
   "cell_type": "code",
   "execution_count": 21,
   "outputs": [
    {
     "name": "stdout",
     "output_type": "stream",
     "text": [
      "[1,  2000] loss: 2.102\n",
      "[1,  4000] loss: 1.878\n",
      "[1,  6000] loss: 1.774\n",
      "[1,  8000] loss: 1.696\n",
      "[1, 10000] loss: 1.631\n",
      "[1, 12000] loss: 1.596\n",
      "[2,  2000] loss: 1.519\n",
      "[2,  4000] loss: 1.487\n",
      "[2,  6000] loss: 1.468\n",
      "[2,  8000] loss: 1.433\n",
      "[2, 10000] loss: 1.406\n",
      "[2, 12000] loss: 1.390\n",
      "[3,  2000] loss: 1.345\n",
      "[3,  4000] loss: 1.335\n",
      "[3,  6000] loss: 1.329\n",
      "[3,  8000] loss: 1.270\n",
      "[3, 10000] loss: 1.290\n",
      "[3, 12000] loss: 1.279\n",
      "[4,  2000] loss: 1.231\n",
      "[4,  4000] loss: 1.221\n",
      "[4,  6000] loss: 1.221\n",
      "[4,  8000] loss: 1.230\n",
      "[4, 10000] loss: 1.223\n",
      "[4, 12000] loss: 1.177\n",
      "[5,  2000] loss: 1.185\n",
      "[5,  4000] loss: 1.167\n",
      "[5,  6000] loss: 1.157\n",
      "[5,  8000] loss: 1.151\n",
      "[5, 10000] loss: 1.163\n",
      "[5, 12000] loss: 1.136\n",
      "[6,  2000] loss: 1.136\n",
      "[6,  4000] loss: 1.111\n",
      "[6,  6000] loss: 1.118\n",
      "[6,  8000] loss: 1.107\n",
      "[6, 10000] loss: 1.104\n",
      "[6, 12000] loss: 1.096\n",
      "[7,  2000] loss: 1.067\n",
      "[7,  4000] loss: 1.080\n",
      "[7,  6000] loss: 1.086\n",
      "[7,  8000] loss: 1.079\n",
      "[7, 10000] loss: 1.067\n",
      "[7, 12000] loss: 1.093\n",
      "[8,  2000] loss: 1.040\n",
      "[8,  4000] loss: 1.044\n",
      "[8,  6000] loss: 1.041\n",
      "[8,  8000] loss: 1.045\n",
      "[8, 10000] loss: 1.057\n",
      "[8, 12000] loss: 1.041\n",
      "[9,  2000] loss: 1.019\n",
      "[9,  4000] loss: 1.026\n",
      "[9,  6000] loss: 1.017\n",
      "[9,  8000] loss: 1.002\n",
      "[9, 10000] loss: 1.020\n",
      "[9, 12000] loss: 1.032\n",
      "[10,  2000] loss: 0.994\n",
      "[10,  4000] loss: 0.989\n",
      "[10,  6000] loss: 1.005\n",
      "[10,  8000] loss: 1.032\n",
      "[10, 10000] loss: 0.993\n",
      "[10, 12000] loss: 0.976\n",
      "Finished Training\n"
     ]
    }
   ],
   "source": [
    "for epoch in range(10):\n",
    "\n",
    "    running_loss = 0.0\n",
    "    for i, data in enumerate(trainloader, 0):\n",
    "        # 获取训练数据\n",
    "        inputs, labels = data\n",
    "        inputs, labels = inputs.to(device), labels.to(device)\n",
    "\n",
    "        # 权重参数梯度清零\n",
    "        optimizer.zero_grad()\n",
    "\n",
    "        # 正向及反向传播\n",
    "        outputs = net(inputs)\n",
    "        loss = criterion(outputs, labels)\n",
    "        loss.backward()\n",
    "        optimizer.step()\n",
    "\n",
    "        # 显示损失值\n",
    "        running_loss += loss.item()\n",
    "        if i % 2000 == 1999:    # print every 2000 mini-batches\n",
    "            print('[%d, %5d] loss: %.3f' %(epoch + 1, i + 1, running_loss / 2000))\n",
    "            running_loss = 0.0\n",
    "\n",
    "print('Finished Training')"
   ],
   "metadata": {
    "collapsed": false,
    "pycharm": {
     "name": "#%%\n"
    }
   }
  },
  {
   "cell_type": "markdown",
   "source": [
    "6.5.7像keras一样显示各层参数"
   ],
   "metadata": {
    "collapsed": false
   }
  },
  {
   "cell_type": "code",
   "execution_count": 22,
   "outputs": [],
   "source": [
    "import collections\n",
    "import torch\n",
    "\n",
    "def paras_summary(input_size, model):\n",
    "        def register_hook(module):\n",
    "            def hook(module, input, output):\n",
    "                class_name = str(module.__class__).split('.')[-1].split(\"'\")[0]\n",
    "                module_idx = len(summary)\n",
    "\n",
    "                m_key = '%s-%i' % (class_name, module_idx+1)\n",
    "                summary[m_key] = collections.OrderedDict()\n",
    "                summary[m_key]['input_shape'] = list(input[0].size())\n",
    "                summary[m_key]['input_shape'][0] = -1\n",
    "                summary[m_key]['output_shape'] = list(output.size())\n",
    "                summary[m_key]['output_shape'][0] = -1\n",
    "\n",
    "                params = 0\n",
    "                if hasattr(module, 'weight'):\n",
    "                    params += torch.prod(torch.LongTensor(list(module.weight.size())))\n",
    "                    if module.weight.requires_grad:\n",
    "                        summary[m_key]['trainable'] = True\n",
    "                    else:\n",
    "                        summary[m_key]['trainable'] = False\n",
    "                if hasattr(module, 'bias'):\n",
    "                    params +=  torch.prod(torch.LongTensor(list(module.bias.size())))\n",
    "                summary[m_key]['nb_params'] = params\n",
    "\n",
    "            if not isinstance(module, nn.Sequential) and \\\n",
    "               not isinstance(module, nn.ModuleList) and \\\n",
    "               not (module == model):\n",
    "                hooks.append(module.register_forward_hook(hook))\n",
    "\n",
    "        # check if there are multiple inputs to the network\n",
    "        if isinstance(input_size[0], (list, tuple)):\n",
    "            x = [torch.rand(1,*in_size) for in_size in input_size]\n",
    "        else:\n",
    "            x = torch.rand(1,*input_size)\n",
    "\n",
    "        # create properties\n",
    "        summary = collections.OrderedDict()\n",
    "        hooks = []\n",
    "        # register hook\n",
    "        model.apply(register_hook)\n",
    "        # make a forward pass\n",
    "        model(x)\n",
    "        # remove these hooks\n",
    "        for h in hooks:\n",
    "            h.remove()\n",
    "\n",
    "        return summary"
   ],
   "metadata": {
    "collapsed": false,
    "pycharm": {
     "name": "#%%\n"
    }
   }
  },
  {
   "cell_type": "code",
   "execution_count": 23,
   "outputs": [
    {
     "data": {
      "text/plain": "OrderedDict([('Conv2d-1',\n              OrderedDict([('input_shape', [-1, 3, 32, 32]),\n                           ('output_shape', [-1, 16, 28, 28]),\n                           ('trainable', True),\n                           ('nb_params', tensor(1216))])),\n             ('MaxPool2d-2',\n              OrderedDict([('input_shape', [-1, 16, 28, 28]),\n                           ('output_shape', [-1, 16, 14, 14]),\n                           ('nb_params', 0)])),\n             ('Conv2d-3',\n              OrderedDict([('input_shape', [-1, 16, 14, 14]),\n                           ('output_shape', [-1, 36, 12, 12]),\n                           ('trainable', True),\n                           ('nb_params', tensor(5220))])),\n             ('MaxPool2d-4',\n              OrderedDict([('input_shape', [-1, 36, 12, 12]),\n                           ('output_shape', [-1, 36, 6, 6]),\n                           ('nb_params', 0)])),\n             ('Linear-5',\n              OrderedDict([('input_shape', [-1, 1296]),\n                           ('output_shape', [-1, 128]),\n                           ('trainable', True),\n                           ('nb_params', tensor(166016))])),\n             ('Linear-6',\n              OrderedDict([('input_shape', [-1, 128]),\n                           ('output_shape', [-1, 10]),\n                           ('trainable', True),\n                           ('nb_params', tensor(1290))]))])"
     },
     "execution_count": 23,
     "metadata": {},
     "output_type": "execute_result"
    }
   ],
   "source": [
    "net = CNNNet()\n",
    "input_size=[3,32,32]\n",
    "paras_summary(input_size,net)"
   ],
   "metadata": {
    "collapsed": false,
    "pycharm": {
     "name": "#%%\n"
    }
   }
  }
 ],
 "metadata": {
  "kernelspec": {
   "name": "python3",
   "language": "python",
   "display_name": "Python 3"
  },
  "language_info": {
   "codemirror_mode": {
    "name": "ipython",
    "version": 2
   },
   "file_extension": ".py",
   "mimetype": "text/x-python",
   "name": "python",
   "nbconvert_exporter": "python",
   "pygments_lexer": "ipython2",
   "version": "2.7.6"
  }
 },
 "nbformat": 4,
 "nbformat_minor": 0
}