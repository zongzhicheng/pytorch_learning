{
 "cells": [
  {
   "cell_type": "markdown",
   "metadata": {
    "collapsed": true,
    "pycharm": {
     "name": "#%% md\n"
    }
   },
   "source": [
    "<h3>3.2 实现神经网络实例</h3>"
   ]
  },
  {
   "cell_type": "markdown",
   "source": [
    "3.2.1 背景说明"
   ],
   "metadata": {
    "collapsed": false
   }
  },
  {
   "cell_type": "code",
   "execution_count": 1,
   "outputs": [],
   "source": [
    "import numpy as np\n",
    "import torch\n",
    "# 导入 pytorch 内置的 mnist 数据\n",
    "from torchvision.datasets import mnist\n",
    "# 导入预处理模块\n",
    "import torchvision.transforms as transforms\n",
    "from torch.utils.data import DataLoader\n",
    "# 导入nn及优化器\n",
    "import torch.nn.functional as F\n",
    "import torch.optim as optim\n",
    "from torch import nn\n",
    "\n",
    "from tensorboardX import SummaryWriter"
   ],
   "metadata": {
    "collapsed": false,
    "pycharm": {
     "name": "#%%\n"
    }
   }
  },
  {
   "cell_type": "code",
   "execution_count": 2,
   "outputs": [],
   "source": [
    "# 定义一些超参数\n",
    "train_batch_size = 64\n",
    "test_batch_size = 128\n",
    "learning_rate = 0.01\n",
    "num_epoches = 20"
   ],
   "metadata": {
    "collapsed": false,
    "pycharm": {
     "name": "#%%\n"
    }
   }
  },
  {
   "cell_type": "code",
   "execution_count": 3,
   "outputs": [],
   "source": [
    "# 定义预处理函数\n",
    "transform = transforms.Compose([transforms.ToTensor(),transforms.Normalize([0.5], [0.5])])\n",
    "# 下载数据，并对数据进行预处理\n",
    "# 已有数据，download=False\n",
    "train_dataset = mnist.MNIST('./data', train=True, transform=transform, download=False)\n",
    "test_dataset = mnist.MNIST('./data', train=False, transform=transform)\n",
    "# 得到一个生成器\n",
    "# DataLoader是一个可迭代对象，可以使用迭代器一样使用\n",
    "train_loader = DataLoader(train_dataset, batch_size=train_batch_size, shuffle=True)\n",
    "test_loader = DataLoader(test_dataset, batch_size=test_batch_size, shuffle=False)"
   ],
   "metadata": {
    "collapsed": false,
    "pycharm": {
     "name": "#%%\n"
    }
   }
  },
  {
   "cell_type": "markdown",
   "source": [
    "3.2.3 可视化源数据"
   ],
   "metadata": {
    "collapsed": false
   }
  },
  {
   "cell_type": "code",
   "execution_count": 4,
   "outputs": [
    {
     "name": "stdout",
     "output_type": "stream",
     "text": [
      "torch.Size([128, 1, 28, 28])\n"
     ]
    },
    {
     "data": {
      "text/plain": "<Figure size 432x288 with 6 Axes>",
      "image/png": "[encoded data removed]"
     },
     "metadata": {},
     "output_type": "display_data"
    }
   ],
   "source": [
    "import matplotlib.pyplot as plt\n",
    "%matplotlib inline\n",
    "import os\n",
    "os.environ[\"KMP_DUPLICATE_LIB_OK\"] = \"TRUE\"\n",
    "\n",
    "examples = enumerate(test_loader)\n",
    "batch_idx, (example_data, example_targets) = next(examples)\n",
    "print(example_data.shape)\n",
    "\n",
    "fig = plt.figure()\n",
    "for i in range(6):\n",
    "  plt.subplot(2,3,i+1)\n",
    "  plt.tight_layout()\n",
    "  plt.imshow(example_data[i][0], cmap='gray', interpolation='none')\n",
    "  plt.title(\"Ground Truth: {}\".format(example_targets[i]))\n",
    "  plt.xticks([])\n",
    "  plt.yticks([])"
   ],
   "metadata": {
    "collapsed": false,
    "pycharm": {
     "name": "#%%\n"
    }
   }
  },
  {
   "cell_type": "markdown",
   "source": [
    "3.2.4 构建模型"
   ],
   "metadata": {
    "collapsed": false
   }
  },
  {
   "cell_type": "code",
   "execution_count": 5,
   "outputs": [],
   "source": [
    "class Net(nn.Module):\n",
    "    \"\"\"\n",
    "    使用sequential构建网络，Sequential()函数的功能是将网络的层组合到一起\n",
    "    \"\"\"\n",
    "    def __init__(self, in_dim, n_hidden_1, n_hidden_2, out_dim):\n",
    "        super(Net, self).__init__()\n",
    "        self.layer1 = nn.Sequential(nn.Linear(in_dim, n_hidden_1),nn.BatchNorm1d(n_hidden_1))\n",
    "        self.layer2 = nn.Sequential(nn.Linear(n_hidden_1, n_hidden_2),nn.BatchNorm1d(n_hidden_2))\n",
    "        self.layer3 = nn.Sequential(nn.Linear(n_hidden_2, out_dim))\n",
    "\n",
    "    def forward(self, x):\n",
    "        x = F.relu(self.layer1(x))\n",
    "        x = F.relu(self.layer2(x))\n",
    "        x = self.layer3(x)\n",
    "        return x"
   ],
   "metadata": {
    "collapsed": false,
    "pycharm": {
     "name": "#%%\n"
    }
   }
  },
  {
   "cell_type": "code",
   "execution_count": 6,
   "outputs": [],
   "source": [
    "lr = 0.01\n",
    "momentum = 0.9"
   ],
   "metadata": {
    "collapsed": false,
    "pycharm": {
     "name": "#%%\n"
    }
   }
  },
  {
   "cell_type": "code",
   "execution_count": 7,
   "outputs": [],
   "source": [
    "# 检测是否有可用的GPU，有则使用，否则使用CPU\n",
    "device = torch.device(\"cuda:0\" if torch.cuda.is_available() else \"cpu\")\n",
    "# if torch.cuda.device_count() > 1:\n",
    "#     print(\"Let's use\", torch.cuda.device_count(), \"GPUs\")\n",
    "#     # dim = 0 [20, xxx] -> [10, ...], [10, ...] on 2GPUs\n",
    "#     # model = nn.DataParallel(model)\n",
    "# 实例化网络\n",
    "model = Net(28 * 28, 300, 100, 10)\n",
    "model.to(device)\n",
    "\n",
    "# 定义损失函数和优化器\n",
    "criterion = nn.CrossEntropyLoss()\n",
    "optimizer = optim.SGD(model.parameters(), lr=lr, momentum=momentum)"
   ],
   "metadata": {
    "collapsed": false,
    "pycharm": {
     "name": "#%%\n"
    }
   }
  },
  {
   "cell_type": "markdown",
   "source": [
    "3.2.5 训练模型"
   ],
   "metadata": {
    "collapsed": false,
    "pycharm": {
     "name": "#%% md\n"
    }
   }
  },
  {
   "cell_type": "code",
   "execution_count": 8,
   "outputs": [
    {
     "name": "stdout",
     "output_type": "stream",
     "text": [
      "0.009000000000000001\n",
      "epoch: 0, Train Loss: 0.2212, Train Acc: 0.9373, Test Loss: 0.0943, Test Acc: 0.9709\n",
      "epoch: 1, Train Loss: 0.0860, Train Acc: 0.9745, Test Loss: 0.0694, Test Acc: 0.9781\n",
      "epoch: 2, Train Loss: 0.0587, Train Acc: 0.9817, Test Loss: 0.0669, Test Acc: 0.9782\n",
      "epoch: 3, Train Loss: 0.0441, Train Acc: 0.9860, Test Loss: 0.0615, Test Acc: 0.9789\n",
      "epoch: 4, Train Loss: 0.0348, Train Acc: 0.9892, Test Loss: 0.0553, Test Acc: 0.9824\n",
      "0.008100000000000001\n",
      "epoch: 5, Train Loss: 0.0262, Train Acc: 0.9921, Test Loss: 0.0555, Test Acc: 0.9816\n",
      "epoch: 6, Train Loss: 0.0186, Train Acc: 0.9947, Test Loss: 0.0563, Test Acc: 0.9826\n",
      "epoch: 7, Train Loss: 0.0154, Train Acc: 0.9956, Test Loss: 0.0553, Test Acc: 0.9827\n",
      "epoch: 8, Train Loss: 0.0136, Train Acc: 0.9962, Test Loss: 0.0544, Test Acc: 0.9821\n",
      "epoch: 9, Train Loss: 0.0125, Train Acc: 0.9965, Test Loss: 0.0547, Test Acc: 0.9830\n",
      "0.007290000000000001\n",
      "epoch: 10, Train Loss: 0.0092, Train Acc: 0.9976, Test Loss: 0.0539, Test Acc: 0.9841\n",
      "epoch: 11, Train Loss: 0.0081, Train Acc: 0.9979, Test Loss: 0.0524, Test Acc: 0.9850\n",
      "epoch: 12, Train Loss: 0.0066, Train Acc: 0.9984, Test Loss: 0.0537, Test Acc: 0.9840\n",
      "epoch: 13, Train Loss: 0.0063, Train Acc: 0.9986, Test Loss: 0.0537, Test Acc: 0.9837\n",
      "epoch: 14, Train Loss: 0.0057, Train Acc: 0.9986, Test Loss: 0.0568, Test Acc: 0.9844\n",
      "0.006561000000000002\n",
      "epoch: 15, Train Loss: 0.0048, Train Acc: 0.9989, Test Loss: 0.0512, Test Acc: 0.9850\n",
      "epoch: 16, Train Loss: 0.0042, Train Acc: 0.9991, Test Loss: 0.0544, Test Acc: 0.9847\n",
      "epoch: 17, Train Loss: 0.0038, Train Acc: 0.9993, Test Loss: 0.0528, Test Acc: 0.9851\n",
      "epoch: 18, Train Loss: 0.0031, Train Acc: 0.9996, Test Loss: 0.0536, Test Acc: 0.9850\n",
      "epoch: 19, Train Loss: 0.0030, Train Acc: 0.9994, Test Loss: 0.0532, Test Acc: 0.9856\n"
     ]
    }
   ],
   "source": [
    "# 开始训练\n",
    "losses = []\n",
    "acces = []\n",
    "eval_losses = []\n",
    "eval_acces = []\n",
    "writer = SummaryWriter(log_dir='logs',comment='train-loss')\n",
    "\n",
    "for epoch in range(num_epoches):\n",
    "    train_loss = 0\n",
    "    train_acc = 0\n",
    "    model.train()\n",
    "    # 动态修改参数学习率\n",
    "    if epoch%5==0:\n",
    "        optimizer.param_groups[0]['lr']*=0.9\n",
    "        print(optimizer.param_groups[0]['lr'])\n",
    "    for img, label in train_loader:\n",
    "        img=img.to(device)\n",
    "        label = label.to(device)\n",
    "        img = img.view(img.size(0), -1)\n",
    "        # 前向传播\n",
    "        out = model(img)\n",
    "        loss = criterion(out, label)\n",
    "        # 反向传播\n",
    "        optimizer.zero_grad()\n",
    "        loss.backward()\n",
    "        optimizer.step()\n",
    "        # 记录误差\n",
    "        train_loss += loss.item()\n",
    "        # 保存loss的数据与epoch数值\n",
    "        writer.add_scalar('Train', train_loss/len(train_loader), epoch)\n",
    "        # 计算分类的准确率\n",
    "        _, pred = out.max(1)\n",
    "        num_correct = (pred == label).sum().item()\n",
    "        acc = num_correct / img.shape[0]\n",
    "        train_acc += acc\n",
    "\n",
    "    losses.append(train_loss / len(train_loader))\n",
    "    acces.append(train_acc / len(train_loader))\n",
    "    # 在测试集上检验效果\n",
    "    eval_loss = 0\n",
    "    eval_acc = 0\n",
    "    # 将模型改为预测模式\n",
    "    model.eval()\n",
    "    for img, label in test_loader:\n",
    "        img=img.to(device)\n",
    "        label = label.to(device)\n",
    "        img = img.view(img.size(0), -1)\n",
    "        out = model(img)\n",
    "        loss = criterion(out, label)\n",
    "        # 记录误差\n",
    "        eval_loss += loss.item()\n",
    "        # 记录准确率\n",
    "        _, pred = out.max(1)\n",
    "        num_correct = (pred == label).sum().item()\n",
    "        acc = num_correct / img.shape[0]\n",
    "        eval_acc += acc\n",
    "\n",
    "    eval_losses.append(eval_loss / len(test_loader))\n",
    "    eval_acces.append(eval_acc / len(test_loader))\n",
    "    print('epoch: {}, Train Loss: {:.4f}, Train Acc: {:.4f}, Test Loss: {:.4f}, Test Acc: {:.4f}'\n",
    "          .format(epoch, train_loss / len(train_loader), train_acc / len(train_loader),\n",
    "                     eval_loss / len(test_loader), eval_acc / len(test_loader)))"
   ],
   "metadata": {
    "collapsed": false,
    "pycharm": {
     "name": "#%%\n"
    }
   }
  },
  {
   "cell_type": "code",
   "execution_count": 9,
   "outputs": [
    {
     "data": {
      "text/plain": "<matplotlib.legend.Legend at 0x23583b54730>"
     },
     "execution_count": 9,
     "metadata": {},
     "output_type": "execute_result"
    },
    {
     "data": {
      "text/plain": "<Figure size 432x288 with 1 Axes>",
      "image/png": "[encoded data removed]"
     },
     "metadata": {
      "needs_background": "light"
     },
     "output_type": "display_data"
    }
   ],
   "source": [
    "plt.title('train loss')\n",
    "plt.plot(np.arange(len(losses)), losses)\n",
    "plt.plot(np.arange(len(eval_losses)), eval_losses)\n",
    "# plt.legend(['Train Loss', 'Test Loss'], loc='upper right')\n",
    "plt.legend(['Train Loss'], loc='upper right')"
   ],
   "metadata": {
    "collapsed": false,
    "pycharm": {
     "name": "#%%\n"
    }
   }
  },
  {
   "cell_type": "code",
   "execution_count": 10,
   "outputs": [],
   "source": [
    "from collections import OrderedDict\n",
    "class Net1(torch.nn.Module):\n",
    "    def __init__(self):\n",
    "        super(Net1, self).__init__()\n",
    "        self.conv = torch.nn.Sequential(\n",
    "            OrderedDict(\n",
    "                [\n",
    "                    (\"conv1\", torch.nn.Conv2d(3, 32, 3, 1, 1)),\n",
    "                    (\"relu1\", torch.nn.ReLU()),\n",
    "                    (\"pool\", torch.nn.MaxPool2d(2))\n",
    "                ]\n",
    "            ))\n",
    "\n",
    "        self.dense = torch.nn.Sequential(\n",
    "            OrderedDict([\n",
    "                (\"dense1\", torch.nn.Linear(32 * 3 * 3, 128)),\n",
    "                (\"relu2\", torch.nn.ReLU()),\n",
    "                (\"dense2\", torch.nn.Linear(128, 10))\n",
    "            ])\n",
    "        )"
   ],
   "metadata": {
    "collapsed": false,
    "pycharm": {
     "name": "#%%\n"
    }
   }
  },
  {
   "cell_type": "markdown",
   "source": [
    "<h3>3.6 优化器</h3>"
   ],
   "metadata": {
    "collapsed": false,
    "pycharm": {
     "name": "#%% md\n"
    }
   }
  },
  {
   "cell_type": "code",
   "execution_count": 11,
   "outputs": [],
   "source": [
    "# 1)导入需要的模块\n",
    "import torch\n",
    "import torch.utils.data as Data\n",
    "import torch.nn.functional as F\n",
    "import matplotlib.pyplot as plt\n",
    "%matplotlib inline\n",
    "\n",
    "# 超参数\n",
    "LR = 0.01\n",
    "BATCH_SIZE = 32\n",
    "EPOCH = 12\n",
    "\n",
    "# 2)生成数据\n",
    "# 生成训练数据\n",
    "# torch.unsqueeze() 的作用是将一维变二维，torch只能处理二维的数据\n",
    "x = torch.unsqueeze(torch.linspace(-1, 1, 1000), dim=1)\n",
    "# 0.1 * torch.normal(x.size())增加噪点\n",
    "y = x.pow(2) + 0.1 * torch.normal(torch.zeros(*x.size()))\n",
    "torch_dataset = Data.TensorDataset(x,y)\n",
    "# 得到一个代批量的生成器\n",
    "loader = Data.DataLoader(dataset=torch_dataset, batch_size=BATCH_SIZE, shuffle=True)"
   ],
   "metadata": {
    "collapsed": false,
    "pycharm": {
     "name": "#%%\n"
    }
   }
  },
  {
   "cell_type": "code",
   "execution_count": 12,
   "outputs": [
    {
     "data": {
      "text/plain": "<Figure size 432x288 with 1 Axes>",
      "image/png": "[encoded data removed]"
     },
     "metadata": {
      "needs_background": "light"
     },
     "output_type": "display_data"
    }
   ],
   "source": [
    "# 3)构建神经网络\n",
    "class Net2(torch.nn.Module):\n",
    "    # 初始化\n",
    "    def __init__(self):\n",
    "        super(Net2, self).__init__()\n",
    "        self.hidden = torch.nn.Linear(1, 20)\n",
    "        self.predict = torch.nn.Linear(20, 1)\n",
    "\n",
    "    # 前向传递\n",
    "    def forward(self, x):\n",
    "        x = F.relu(self.hidden(x))\n",
    "        x = self.predict(x)\n",
    "        return x\n",
    "\n",
    "# 4)使用多种优化器\n",
    "net_SGD = Net2()\n",
    "net_Momentum = Net2()\n",
    "net_RMSProp = Net2()\n",
    "net_Adam = Net2()\n",
    "\n",
    "nets = [net_SGD, net_Momentum, net_RMSProp, net_Adam]\n",
    "\n",
    "opt_SGD = torch.optim.SGD(net_SGD.parameters(), lr=LR)\n",
    "opt_Momentum = torch.optim.SGD(net_Momentum.parameters(), lr=LR, momentum=0.9)\n",
    "opt_RMSProp = torch.optim.RMSprop(net_RMSProp.parameters(), lr=LR, alpha=0.9)\n",
    "opt_Adam = torch.optim.Adam(net_Adam.parameters(), lr=LR, betas=(0.9, 0.99))\n",
    "optimizers = [opt_SGD, opt_Momentum, opt_RMSProp, opt_Adam]\n",
    "\n",
    "loss_func = torch.nn.MSELoss()\n",
    "\n",
    "loss_his = [[], [], [], []]  # 记录损失\n",
    "\n",
    "for epoch in range(EPOCH):\n",
    "    for step, (batch_x, batch_y) in enumerate(loader):\n",
    "        # zip()函数：\n",
    "        # 将可迭代的对象作为参数，将对象中对应的元素打包成一个个元组，然后返回由这些元组组成的列表\n",
    "        # 例子：\n",
    "        #   a = [1,2,3]\n",
    "        #   b = [4,5,6]\n",
    "        #   c = [4,5,6,7,8]\n",
    "        #   zip(a,b) => [(1,4),(2,5),(3,6)]\n",
    "        for net, opt, l_his in zip(nets, optimizers, loss_his):\n",
    "            output = net(batch_x)\n",
    "            loss = loss_func(output, batch_y)\n",
    "            opt.zero_grad()\n",
    "            loss.backward()\n",
    "            opt.step()\n",
    "            l_his.append(loss.data.numpy())\n",
    "labels = ['SGD', 'Momentum', 'RMSprop', 'Adam']\n",
    "for i, l_his in enumerate(loss_his):\n",
    "    plt.plot(l_his, label=labels[i])\n",
    "plt.legend(loc='best')\n",
    "plt.xlabel('Steps')\n",
    "plt.ylabel('Loss')\n",
    "plt.ylim((0, 0.2))\n",
    "plt.show()"
   ],
   "metadata": {
    "collapsed": false,
    "pycharm": {
     "name": "#%%\n"
    }
   }
  }
 ],
 "metadata": {
  "kernelspec": {
   "name": "python3",
   "language": "python",
   "display_name": "Python 3 (ipykernel)"
  },
  "language_info": {
   "codemirror_mode": {
    "name": "ipython",
    "version": 2
   },
   "file_extension": ".py",
   "mimetype": "text/x-python",
   "name": "python",
   "nbconvert_exporter": "python",
   "pygments_lexer": "ipython2",
   "version": "2.7.6"
  }
 },
 "nbformat": 4,
 "nbformat_minor": 0
}